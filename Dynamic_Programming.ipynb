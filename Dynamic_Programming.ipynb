{
  "nbformat": 4,
  "nbformat_minor": 0,
  "metadata": {
    "colab": {
      "provenance": []
    },
    "kernelspec": {
      "name": "python3",
      "display_name": "Python 3"
    },
    "language_info": {
      "name": "python"
    }
  },
  "cells": [
    {
      "cell_type": "markdown",
      "source": [
        "#Finding an Optimal Policy to Play Chutes and Ladders Using Dynamic Programming\n",
        "\n",
        "This notebook uses Dynamic Programming to solve the Chutes and Ladders modified game.\n",
        "\n",
        "The game board is shown below.  Players start on Square 0 (outside the board) and move towards the goal space (State 100).  Landing at the bottom of ladder moves the player to the top, while landing at the top of a chute moves the player to the bottom square.  \n",
        "\n",
        "\n",
        "<img src=\"https://drive.google.com/uc?export=view&id=16k2EflsluUXCPVWVgL-vyv5-IzOqWZvW\" alt=\"Drawing\" width=\"500\"/>\n",
        "\n",
        "\n",
        "At each turn, the player may choose one of four dice (Effron Dice)\n",
        "- Blue: 3,3,3,3,3,3\n",
        "- Black: 4,4,4,4,0,0\n",
        "- Red: 6,6,2,2,2,2\n",
        "- Green: 5,5,5,1,1,1\n",
        "\n",
        "The **purpose** of this code is to determine which dice to select at each turn so as to minimize the number of steps it takes to reach the goal state.  \n",
        "\n"
      ],
      "metadata": {
        "id": "kQvEgLjiwoIA"
      }
    },
    {
      "cell_type": "code",
      "execution_count": null,
      "metadata": {
        "id": "DZJJW6oR8IeQ"
      },
      "outputs": [],
      "source": [
        "import numpy as np\n",
        "\n",
        "ladders = {1:38,4:14,9:31,21:42,28:84,36:44,51:67,71:91,80:100}\n",
        "chutes = {16:6,48:26,49:11,56:53,62:19,64:60,87:24,93:73,95:75,98:78}\n",
        "\n",
        "G = []\n",
        "B = []\n",
        "R = []\n",
        "L = []"
      ]
    },
    {
      "cell_type": "markdown",
      "source": [
        "Dynamic programming uses an offline mathmatical model to calculate the expected number of moves at each possible space on the board, also known as the current state. Our goal is to create a matrix of size 101 by 101 which where each row will represent the current state and each column will represent the probability of reaching the that state from the current state. Once we have this matrix, we can use it in combination with a non-coefficient matrix to use a linear matrix solver to find our answer.\n",
        "\n",
        "In order to calcualte the expected number of moves for each state, we must use a set of mathmatical equations which use the expected value of a future state times the probability of reaching that state to determine the value. Below are the four equations for each of the dice.\n",
        "\n",
        "**Black Dice**\n",
        "\n",
        "$S_{current} = 1 + S_{current + 4} * 2/3 + S_{current} * 1/3$\n",
        "\n",
        "**Red Dice**\n",
        "\n",
        "$S_{current} = 1 + S_{current + 6} * 1/3 + S_{current + 2} * 2/3$\n",
        "\n",
        "**Green Dice**\n",
        "\n",
        "$S_{current} = 1 + S_{current + 5} * 1/2 + S_{current + 1} * 1/2$\n",
        "\n",
        "**Blue Dice**\n",
        "\n",
        "$S_{current} = 1 + S_{current + 3}$"
      ],
      "metadata": {
        "id": "0nyjb8N4qwVD"
      }
    },
    {
      "cell_type": "markdown",
      "source": [
        "We can use these equations to generate the expected value for each state given the dice being used. However, before we do that we have to seperate the coefficient and non-coefficient terms. Doing so results in the following equations which will be used in our matrix:\n",
        "\n",
        "**Black Dice**\n",
        "\n",
        "$1 = S_{current + 4} * -2/3 + S_{current} * -1/3 + S_{current}$\n",
        "\n",
        "**Red Dice**\n",
        "\n",
        "$1 = S_{current + 6} * -1/3 + S_{current + 2} * -2/3 + S_{current}$\n",
        "\n",
        "**Green Dice**\n",
        "\n",
        "$1 = S_{current + 5} * -1/2 + S_{current + 1} * -1/2 + S_{current}$\n",
        "\n",
        "**Blue Dice**\n",
        "\n",
        "$1 =  -S_{current + 3} + S_{current}$\n",
        "\n",
        "With these equations created, we can use the following functions to generate arrays of size 101 where each index represents the probability of reaching that state from the current state."
      ],
      "metadata": {
        "id": "06c9Ld2auFuB"
      }
    },
    {
      "cell_type": "code",
      "source": [
        "def blackDice(currentState):\n",
        "    \"\"\"\n",
        "    Generate a list of values which represent the probability of reaching future states from the\n",
        "    current state using the black dice.\n",
        "\n",
        "    Parameters:\n",
        "      currentState: the current index of the array\n",
        "\n",
        "    Return Value:\n",
        "      coef: a list containing the probabilities of reaching future states\n",
        "    \"\"\"\n",
        "    coef = [0.0] * 101        #create empty array and set current state equal to 1\n",
        "    coef[currentState] = 1\n",
        "    if currentState + 4 > 100:    #account for cases where next state is past the final state\n",
        "        ns = 100\n",
        "    else:\n",
        "        ns = currentState + 4\n",
        "    coef[ns] += -2/3            #fill in probabilites for each state\n",
        "    coef[currentState] += -1/3\n",
        "    return coef\n",
        "\n",
        "def blueDice(currentState):\n",
        "    \"\"\"\n",
        "    Generate a list of values which represent the probability of reaching future states from the\n",
        "    current state using the blue dice.\n",
        "\n",
        "    Parameters:\n",
        "      currentState: the current index of the array\n",
        "\n",
        "    Return Value:\n",
        "      coef: a list containing the probabilities of reaching future states\n",
        "    \"\"\"\n",
        "    coef = [0.0] * 101        #create empty array and set current state equal to 1\n",
        "    coef[currentState] = 1\n",
        "    if currentState + 3 > 100:  #account for cases where next state is past the final state\n",
        "        ns = 100\n",
        "    else:\n",
        "        ns = currentState+3\n",
        "    coef[ns] += -1          #fill in probabilites for each state\n",
        "    return coef\n",
        "\n",
        "def redDice(currentState):\n",
        "    \"\"\"\n",
        "    Generate a list of values which represent the probability of reaching future states from the\n",
        "    current state using the red dice.\n",
        "\n",
        "    Parameters:\n",
        "      currentState: the current index of the array\n",
        "\n",
        "    Return Value:\n",
        "      coef: a list containing the probabilities of reaching future states\n",
        "    \"\"\"\n",
        "    coef = [0.0] * 101    #create empty array and set current state equal to 1\n",
        "    coef[currentState] = 1\n",
        "    if currentState + 6 > 100:  #account for cases where next state is past the final state\n",
        "        ns = 100\n",
        "    else:\n",
        "        ns = currentState+6\n",
        "    if currentState + 2 > 100:\n",
        "        ns2 = 100\n",
        "    else:\n",
        "        ns2 = currentState+2\n",
        "    coef[ns] += -1/3          #fill in probabilites for each state\n",
        "    coef[ns2] += -2/3\n",
        "    return coef\n",
        "\n",
        "def greenDice(currentState):\n",
        "    \"\"\"\n",
        "    Generate a list of values which represent the probability of reaching future states from the\n",
        "    current state using the green dice.\n",
        "\n",
        "    Parameters:\n",
        "      currentState: the current index of the array\n",
        "\n",
        "    Return Value:\n",
        "      coef: a list containing the probabilities of reaching future states\n",
        "    \"\"\"\n",
        "    coef = [0.0] * 101      #create empty array and set current state equal to 1\n",
        "    if currentState + 5 > 100:  #account for cases where next state is past the final state\n",
        "        ns = 100\n",
        "    else:\n",
        "        ns = currentState+5\n",
        "    if currentState + 1 > 100:\n",
        "        ns2 = 100\n",
        "    else:\n",
        "        ns2 = currentState+1\n",
        "    coef[ns] += -1/2            #fill in probabilites for each state\n",
        "    coef[ns2] += -1/2\n",
        "    coef[currentState] = 1\n",
        "    return coef"
      ],
      "metadata": {
        "id": "7sEmukjN82yY"
      },
      "execution_count": null,
      "outputs": []
    },
    {
      "cell_type": "markdown",
      "source": [
        "However, these values are not correct for each state. As mentioned earlier, the board contains chutes and ladders which will move the player to a specified space. To account for these we must go through our matrix and replace each ladder start space with an array where the probability of reaching the next state is gaurenteed with a value of 1, or negative one, based on the following equation where we use 0 instead of 1 since no additional moves are required.\n",
        "\n",
        "**Ladder and Chute Space**\n",
        "\n",
        "$S_{start space} = 0 + S_{end space}$\n",
        "\n",
        "$0 = -S_{end space} + S_{start space}$"
      ],
      "metadata": {
        "id": "tkrXD10Hw2rb"
      }
    },
    {
      "cell_type": "code",
      "source": [
        "def replaceLaddersandChutes(A):\n",
        "    \"\"\"\n",
        "    Given a probability matrix replace each chute and ladder row with the proper values\n",
        "\n",
        "    Parameters:\n",
        "      A: probability matrix\n",
        "\n",
        "    Return Value:\n",
        "      A: updated probability matrix\n",
        "    \"\"\"\n",
        "    for item in ladders:\n",
        "        coef = [0.0] * 101\n",
        "        coef[ladders[item]] = -1      #update the next state\n",
        "        coef[item] = 1                #update the current state\n",
        "        A[item] = coef\n",
        "\n",
        "    for item in chutes:\n",
        "        coef = [0.0] * 101\n",
        "        coef[chutes[item]] = -1     #update the value for the next state\n",
        "        coef[item] = 1              #update the current state value\n",
        "        A[item] = coef\n",
        "\n",
        "    return A"
      ],
      "metadata": {
        "id": "hb5JuRRX85fG"
      },
      "execution_count": null,
      "outputs": []
    },
    {
      "cell_type": "markdown",
      "source": [
        "With these equations functions we are able to properly generate our matrix for each dice. In the code below we generate four arrays where each represents one of the dice. We also generate our b array which holds all of the non-coefficient values in it. All of these values are set to 1, since moving from one state should take one move, except for the chute and ladder spaces which move the player for free and the end space which results in a win.  "
      ],
      "metadata": {
        "id": "JckVD3yWx62R"
      }
    },
    {
      "cell_type": "code",
      "source": [
        "for s in range(101):          #fill 4 arrays with probabilities of each dice type\n",
        "    G.append(greenDice(s))\n",
        "    L.append(blueDice(s))\n",
        "    R.append(redDice(s))\n",
        "    B.append(blackDice(s))\n",
        "\n",
        "\n",
        "G = replaceLaddersandChutes(G)    #account for all chutes and ladders\n",
        "L = replaceLaddersandChutes(L)\n",
        "R = replaceLaddersandChutes(R)\n",
        "B = replaceLaddersandChutes(B)\n",
        "\n",
        "b = np.ones(101)      #generate non-coefficient matrix\n",
        "b[100] = 0            #set the win state value equal to 0\n",
        "for item in ladders:    #set chute and ladder spaces equal to 0\n",
        "    b[item] = 0\n",
        "for item in chutes:\n",
        "    b[item] = 0"
      ],
      "metadata": {
        "id": "jiLoe6TT89RX"
      },
      "execution_count": null,
      "outputs": []
    },
    {
      "cell_type": "code",
      "source": [
        "def solve(A, b):\n",
        "    \"\"\"\n",
        "    Take in a probability and non-coefficient vector and solve using numpy's linear matrix solver\n",
        "\n",
        "    Parameters:\n",
        "      A: probability matrix\n",
        "      b: non-coefficient matrix\n",
        "\n",
        "    Return Value:\n",
        "      x: the solved matrix\n",
        "    \"\"\"\n",
        "\n",
        "    A = np.array(A)\n",
        "    #print(A)\n",
        "\n",
        "    x = np.linalg.solve(A, b)\n",
        "    return(x)"
      ],
      "metadata": {
        "id": "xqLtqoMl87X8"
      },
      "execution_count": null,
      "outputs": []
    },
    {
      "cell_type": "markdown",
      "source": [
        "Our goal is to find the optimal dice to use at each state. In order to find this value, we use the following setup. This code will, using the green dice matrix as a base, go through all states in the matrix and replace it with the each of the four dice and determine which results the lowest expected number of turns. We test to see if the new dice is better than the current by seeing if the new expected value for the current state is lower than the orignal. Since we are using dynamic programming, we assume that the optimal solution from a earlier state will be correct if all later states aare optimal. Since several of these states are dependent on each other we run through this proccess several times to account for changes that occured in between runs."
      ],
      "metadata": {
        "id": "TrDdnPxByoTg"
      }
    },
    {
      "cell_type": "code",
      "source": [
        "array = G.copy()      #create an array to test the current change\n",
        "current = G.copy()    #create an array to store the current best choices\n",
        "policy = [\"G\"] * 101  #create a policy array to save what the current best dice in.\n",
        "for j in range(4):\n",
        "    for i in range(101):\n",
        "        array[i] = B[i]     #replace an index with a row from the black dice\n",
        "        if solve(array, b)[i] < solve(current, b)[i]:   #check to see if the new dice is better than the current dice\n",
        "            current[i] = B[i]\n",
        "            policy[i] = \"B\"                              #update current and policy\n",
        "\n",
        "        array = current.copy()      #update array to the current best options\n",
        "        i -= 1\n",
        "\n",
        "    i = 100\n",
        "    while i >= 0:           #repeate the proccess with the red dice\n",
        "        array[i] = R[i]\n",
        "        if solve(array, b)[i] < solve(current, b)[i]:\n",
        "            current[i] = R[i]\n",
        "            policy[i] = \"R\"\n",
        "\n",
        "        array = current.copy()\n",
        "        i -= 1\n",
        "\n",
        "    i = 100\n",
        "    while i >= 0:\n",
        "        array[i] = L[i]\n",
        "        try:              #a loop can occur with the blue dice so we use a try to avoid any errors\n",
        "            if solve(array, b)[i] < solve(current, b)[i]:   #repeate the proccess with the blue dice\n",
        "                current[i] = L[i]\n",
        "                policy[i] = \"L\"\n",
        "        except:\n",
        "            policy[i] = policy[i]\n",
        "        array = current.copy()\n",
        "        i -= 1\n",
        "\n",
        "solution = solve(current, b)      #save the expected value matrix"
      ],
      "metadata": {
        "id": "u6aSfsBq9ALZ"
      },
      "execution_count": null,
      "outputs": []
    },
    {
      "cell_type": "markdown",
      "source": [
        "After running this code we get the following solution:"
      ],
      "metadata": {
        "id": "NwoG1HNa0qJR"
      }
    },
    {
      "cell_type": "code",
      "source": [
        "print(solution)"
      ],
      "metadata": {
        "colab": {
          "base_uri": "https://localhost:8080/"
        },
        "id": "SAuq2_3A9I5v",
        "outputId": "5e28ac17-1237-4c56-f992-9748e5ac9f07"
      },
      "execution_count": null,
      "outputs": [
        {
          "output_type": "stream",
          "name": "stdout",
          "text": [
            "[10.58333333  8.55555556 11.11468865 11.11111111  9.52503429 10.61111111\n",
            " 10.11111111 10.3002337  11.29399736  9.11111111 10.67847889 10.29399736\n",
            " 10.0907636   9.67847889  9.52503429  9.0907636  10.11111111  8.52503429\n",
            "  8.22222222  7.85390947  7.86728395  7.22222222  7.11728395  6.86728395\n",
            "  6.61728395  6.11728395  7.15226337  7.66975309  5.11728395  9.22222222\n",
            "  8.72222222  9.11111111  8.22222222  7.72222222  8.13888889  8.34722222\n",
            "  6.72222222  8.88888889  8.55555556  8.22222222  7.97222222  7.72222222\n",
            "  7.22222222  7.22222222  6.72222222  6.22222222  8.51592745  5.72222222\n",
            "  7.15226337 10.29399736  7.01592745  4.22222222  8.80963268  8.41035411\n",
            "  8.20930498  7.80963268  8.41035411  7.20930498  7.01028807  6.61179698\n",
            "  6.40432099  6.01028807  7.85390947  5.40432099  6.40432099  4.81481481\n",
            "  4.50925926  4.22222222  3.88888889  3.58333333  3.33333333  3.\n",
            "  2.75        2.5         2.          1.75        1.5         1.\n",
            "  2.70576132  3.55864198  0.          6.11728395  5.70781893  5.4537037\n",
            "  5.11728395  4.88888889  4.50925926  6.61728395  3.88888889  3.58333333\n",
            "  3.33333333  3.          2.75        2.5         2.          1.75\n",
            "  1.5         1.          2.70576132  1.          0.        ]\n"
          ]
        }
      ]
    },
    {
      "cell_type": "code",
      "source": [
        "for i in range(0, 100, 10):\n",
        "  print(policy[i:i+10])"
      ],
      "metadata": {
        "id": "lb9pC2JR9QRp",
        "outputId": "1f274f66-62a9-4bb0-f25c-e4a3adaf9f64",
        "colab": {
          "base_uri": "https://localhost:8080/"
        }
      },
      "execution_count": null,
      "outputs": [
        {
          "output_type": "stream",
          "name": "stdout",
          "text": [
            "['G', 'G', 'R', 'R', 'G', 'B', 'L', 'R', 'R', 'G']\n",
            "['L', 'R', 'L', 'R', 'L', 'R', 'G', 'R', 'L', 'R']\n",
            "['L', 'G', 'R', 'G', 'B', 'L', 'R', 'G', 'G', 'B']\n",
            "['R', 'R', 'B', 'L', 'R', 'G', 'G', 'R', 'R', 'R']\n",
            "['G', 'R', 'L', 'B', 'L', 'R', 'B', 'B', 'G', 'G']\n",
            "['G', 'G', 'R', 'R', 'L', 'R', 'G', 'R', 'L', 'R']\n",
            "['L', 'R', 'G', 'R', 'G', 'R', 'R', 'R', 'R', 'R']\n",
            "['R', 'G', 'L', 'B', 'R', 'G', 'B', 'L', 'R', 'G']\n",
            "['G', 'L', 'R', 'R', 'R', 'L', 'R', 'G', 'R', 'R']\n",
            "['R', 'R', 'L', 'G', 'R', 'G', 'B', 'L', 'G', 'G']\n"
          ]
        }
      ]
    },
    {
      "cell_type": "markdown",
      "source": [
        "These two arrays show us the expected number of moves to compelte the game at each state as well as the best dice to use at each state, from 0 to 100. In the end, we expect it to take 10.58 moves on average to compelte the game of \"Chutes and Ladders\" using this optimal strategy. However, if we get all of the desired rolls, the above strategy will result in a win in eight moves."
      ],
      "metadata": {
        "id": "g0FY1WqA1B2S"
      }
    }
  ]
}