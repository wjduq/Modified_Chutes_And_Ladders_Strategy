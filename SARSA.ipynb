{
  "nbformat": 4,
  "nbformat_minor": 0,
  "metadata": {
    "colab": {
      "provenance": []
    },
    "kernelspec": {
      "name": "python3",
      "display_name": "Python 3"
    },
    "language_info": {
      "name": "python"
    }
  },
  "cells": [
    {
      "cell_type": "markdown",
      "source": [
        "# Chutes and Ladders using SARSA\n",
        "\n",
        "This notebook uses Q-Learning to solve the Chutes and Ladders modified game.\n",
        "\n",
        "The game board is shown below.  Players start on Square 0 (outside the board) and move towards the goal space (State 100).  Landing at the bottom of ladder moves the player to the top, while landing at the top of a chute moves the player to the bottom square.  \n",
        "\n",
        "\n",
        "<img src=\"https://drive.google.com/uc?export=view&id=16k2EflsluUXCPVWVgL-vyv5-IzOqWZvW\" alt=\"Drawing\" width=\"500\"/>\n",
        "\n",
        "\n",
        "At each turn, the player may choose one of four dice (Effron Dice)\n",
        "- Blue: 3,3,3,3,3,3\n",
        "- Black: 4,4,4,4,0,0\n",
        "- Red: 6,6,2,2,2,2\n",
        "- Green: 5,5,5,1,1,1\n",
        "\n",
        "The **purpose** of this code is to determine which dice to select at each turn so as to minimize the number of steps it takes to reach the goal state (finish the game).  "
      ],
      "metadata": {
        "id": "CPwgzr1_9xHF"
      }
    },
    {
      "cell_type": "code",
      "execution_count": null,
      "metadata": {
        "id": "6DGW9pMpKyZy"
      },
      "outputs": [],
      "source": [
        "import random\n",
        "import numpy as np\n",
        "import matplotlib.pyplot as plt"
      ]
    },
    {
      "cell_type": "markdown",
      "source": [
        "## State Transition Code"
      ],
      "metadata": {
        "id": "GvA6UiBu8fo2"
      }
    },
    {
      "cell_type": "code",
      "source": [
        "def nextState (state,roll):\n",
        "    '''\n",
        "    This function transitions from the current state and current dice roll to the next state.\n",
        "    INPUTS:\n",
        "        state is the current state you are in (0 to 100)\n",
        "        roll is the number showing on the dice (1 to 6)\n",
        "    RETURN VALUE:\n",
        "    this function returns the next state integer\n",
        "    '''\n",
        "    # we create a dictionary for the ladders and chutes.  The key is the start state of the chute/ladder\n",
        "    # and the value is the ending state.\n",
        "    ladders = {1:38,4:14,9:31,21:42,28:84,36:44,51:67,71:91,80:100}\n",
        "    chutes = {16:6,48:26,49:11,56:53,62:19,64:60,87:24,93:73,95:75,98:78}\n",
        "\n",
        "    next_state = state + int(roll)\n",
        "    if next_state > 100:\n",
        "        next_state = 100\n",
        "    # now check for ladders\n",
        "    if next_state in ladders:\n",
        "        next_state = ladders[next_state]\n",
        "    # now check for chutes\n",
        "    if next_state in chutes:\n",
        "        next_state = chutes[next_state]\n",
        "\n",
        "    return next_state, 1\n",
        "\n",
        "def roll (dice_color):\n",
        "    '''\n",
        "    This function randomly rolls one of the four effron dice.\n",
        "    INPUT:\n",
        "    dice_color should be among \"red\",\"blue\",\"black\", or \"green\"\n",
        "    OUTPUT:\n",
        "    an integer randomly selected from one of the dice\n",
        "    '''\n",
        "\n",
        "    if dice_color == 'red':\n",
        "        return random.choice([2,2,2,2,6,6])\n",
        "    if dice_color == 'blue':\n",
        "        return 3\n",
        "    if dice_color == 'black':\n",
        "        return random.choice([0,0,4,4,4,4])\n",
        "    if dice_color == 'green':\n",
        "        return random.choice([1,1,1,5,5,5])\n",
        "    # for invalid input\n",
        "    return None"
      ],
      "metadata": {
        "id": "s9IKMyJ0LWdo"
      },
      "execution_count": null,
      "outputs": []
    },
    {
      "cell_type": "markdown",
      "source": [
        "# SARSA Approach"
      ],
      "metadata": {
        "id": "SRgXHqdg9Y0x"
      }
    },
    {
      "cell_type": "markdown",
      "source": [
        "The SARSA algorithm utilizes an e-greedy method in order to choose the next action. This means that the choosen next action will be almost always the one that optimizes the expected future reward, while there is a small chance that the choosen action will be random. In doing so, the algorithm balances exploration vs exploitation."
      ],
      "metadata": {
        "id": "1C9kRazb2z1B"
      }
    },
    {
      "cell_type": "code",
      "source": [
        "def e_greedy(s,policy,epsilon):\n",
        "  '''\n",
        "  Implements an e-greedy policy.\n",
        "  With probability epsilon, it returns random action choice\n",
        "  otherwise returns action choice specified by the policy\n",
        "\n",
        "  s = current state\n",
        "  policy = policy function (an array that is indexed by state)\n",
        "  epsilon (0 to 1) a probability of picking exploratory random action\n",
        "  '''\n",
        "  r = np.random.random()\n",
        "  if r > epsilon:\n",
        "    return policy[s]\n",
        "  else:\n",
        "    return np.random.randint(0,3)\n",
        "\n",
        "#-------------------------------------------------------------\n",
        "def init ():\n",
        "  '''\n",
        "  Create totals, counts and policy defaults\n",
        "  '''\n",
        "  Q = np.zeros((101,4))\n",
        "  print(len(Q))\n",
        "  P = np.ones(101).astype(int)\n",
        "  print(len(P))\n",
        "  return Q,P\n"
      ],
      "metadata": {
        "id": "b3ettgQeoPdK"
      },
      "execution_count": null,
      "outputs": []
    },
    {
      "cell_type": "markdown",
      "source": [
        "Additionally, SARSA is considered an on-policy algorithm, as SARSA uses the Q value of the next state and the next action to update the Q value of the current state-action pair."
      ],
      "metadata": {
        "id": "LiPkCoOy34rN"
      }
    },
    {
      "cell_type": "code",
      "source": [
        "def SARSA (Q,policy,alpha,epsilon):\n",
        "  '''\n",
        "  Perform 1 unit of experience (1 trial, trajectory)\n",
        "  using the SARSA learning algorithm\n",
        "  '''\n",
        "  k=0 #amount of turns\n",
        "  state = 0\n",
        "  action = e_greedy(state,policy,epsilon)\n",
        "  total_reward = 0\n",
        "  reward = 0\n",
        "\n",
        "  #print(\"\\n==== TRIAL ====\")\n",
        "  #print(\"state,action,reward: ({0:d},{1:d},{2:d})\".format(state,action,reward))\n",
        "\n",
        "  while (state < 100): #while we haven't reached the end of the board\n",
        "    rollColor = [\"red\", \"blue\",\"black\",\"green\"]\n",
        "    rollX = roll(rollColor[action]) #gets a roll by rolling a specific die specified by the action\n",
        "\n",
        "    next_state,reward = nextState(state,rollX) #gets the next state and receives a reward of 1\n",
        "    total_reward += reward\n",
        "\n",
        "    next_action = e_greedy(next_state,policy,epsilon)\n",
        "    TDerror = 1 + Q[next_state,next_action] - Q[state,action] #reward of 1 plus the difference in the cost to go from the new state (next_state) and the current state (state)\n",
        "    Q[state,action] = Q[state,action] + alpha * TDerror #updating Q-values using the total difference error (difference in expected reward and given reward)\n",
        "    state = next_state\n",
        "    action = next_action\n",
        "    #print(\"state,action,reward: ({0:d},{1:d},{2:d})\".format(state,action,reward))\n",
        "    k += 1\n",
        "\n",
        "  # now we need to update last (terminal) state\n",
        "  #print(\"state,action,reward: ({0:d},{1:d},{2:d})\".format(state,action,reward))\n",
        "  total_reward += reward\n",
        "  TDerror = reward + 0 - Q[state,action]\n",
        "  Q[state,action] = Q[state,action] + alpha * TDerror\n",
        "  return total_reward"
      ],
      "metadata": {
        "id": "ob_AvB0UoKbM"
      },
      "execution_count": null,
      "outputs": []
    },
    {
      "cell_type": "code",
      "source": [
        "def policy_improvement(Q):\n",
        "  '''\n",
        "  Update value function V and policy P based on Q values\n",
        "  '''\n",
        "  V = np.min(Q,axis=1) #getting the minimum the average future expected reward at each state, these will become our V values.\n",
        "  P = np.argmin(Q,axis=1) #updates the policy to roll the die that minimizes the average future expected reward.\n",
        "  return V,P\n",
        "\n",
        "\n",
        "#-------------------------------------------------------------\n",
        "def do_trials (Q,policy,n,alpha,epsilon):\n",
        "  '''\n",
        "  Perform n trials of learning\n",
        "  '''\n",
        "  R = 0   # total reward\n",
        "  for i in range(n):\n",
        "    R += SARSA(Q,policy,alpha,epsilon)\n",
        "\n",
        "  return R / n\n",
        "\n",
        "#-------------------------------------------------------------\n",
        "\n",
        "\n"
      ],
      "metadata": {
        "id": "DF6_KB-uZpOB"
      },
      "execution_count": null,
      "outputs": []
    },
    {
      "cell_type": "markdown",
      "source": [
        "The code below runs SARSA 1000 times for 10 sets, and after each set it uses the \"policy_improvement\" function to update the policy."
      ],
      "metadata": {
        "id": "WlRqrHSW_czs"
      }
    },
    {
      "cell_type": "code",
      "source": [
        "Q,P = init()\n",
        "m = 1000 #number of trials per set\n",
        "n = 10 #number of sets\n",
        "epsilon = 0.1\n",
        "alpha = 0.1\n",
        "\n",
        "\n",
        "for i in range(m):\n",
        "  R = do_trials(Q,P,n,alpha,epsilon)\n",
        "  V,P = policy_improvement(Q)\n",
        "print(\"Q = \\n\", Q)\n",
        "print(\"V = \\n\",V)\n",
        "print(\"P = \\n\",P)\n",
        "\n"
      ],
      "metadata": {
        "colab": {
          "base_uri": "https://localhost:8080/"
        },
        "id": "G0gUn1VEaGjI",
        "outputId": "be3bb4d8-db89-4fa6-ae17-da2b9da32ca9"
      },
      "execution_count": null,
      "outputs": [
        {
          "output_type": "stream",
          "name": "stdout",
          "text": [
            "101\n",
            "101\n",
            "Q = \n",
            " [[13.55486435 13.37922997 12.56970972 12.43456251]\n",
            " [ 0.          0.          0.          0.        ]\n",
            " [12.57396206 12.81092334 12.956534   12.83051733]\n",
            " [12.54692641 12.47401905 12.69709399 12.58394776]\n",
            " [ 0.          0.          0.          0.        ]\n",
            " [13.00901119 12.92047939 12.32109241 12.8332215 ]\n",
            " [12.58836957 11.2905401  12.65824039 11.74624341]\n",
            " [11.70384559 12.48224468 12.39295786 12.11455768]\n",
            " [12.36581806 12.61676076 12.32845847 11.90921536]\n",
            " [ 0.          0.          0.          0.        ]\n",
            " [12.269304   12.24331622 12.29788218 12.35083737]\n",
            " [12.49446279 12.41803868 12.6168803  12.48510565]\n",
            " [11.77244371 11.71783156 11.96767238 11.8060996 ]\n",
            " [11.67826197 12.19770289 12.02435538 11.87118663]\n",
            " [11.69308913 11.41954731 11.49813991 11.52560701]\n",
            " [11.0934377  11.24446018 11.11027633 11.21570179]\n",
            " [ 0.          0.          0.          0.        ]\n",
            " [10.41860199 10.59661812 10.72409712 10.5813799 ]\n",
            " [10.33788256 10.27464337 10.4584089  10.31274539]\n",
            " [ 9.87705213  9.77487719  9.8443285   9.86566957]\n",
            " [ 9.70217936  9.7384513   9.70849815  9.72314479]\n",
            " [ 0.          0.          0.          0.        ]\n",
            " [ 8.81577564  8.60841088  9.50503406  8.97935421]\n",
            " [ 9.0590479   9.69648646  9.6801972   8.15578218]\n",
            " [10.00782373  9.90644979  8.20469647  9.02773623]\n",
            " [ 9.92773818  7.57899489  9.21043625  8.22289135]\n",
            " [ 8.73605089 10.00438718  9.8670127   9.55309919]\n",
            " [ 9.7327926   9.81521311  9.56100631  8.72927242]\n",
            " [ 0.          0.          0.          0.        ]\n",
            " [10.03443213 10.12282813 10.07083899 10.08510066]\n",
            " [ 9.91851409  9.89763558 10.08341254  9.90467645]\n",
            " [10.84788077 10.87059102 11.21722378 10.21884266]\n",
            " [11.18777837 11.16488156 10.01185151 10.85030973]\n",
            " [10.34700106  9.49894822 10.64844855  9.94489227]\n",
            " [ 9.72177236 10.85466141 10.70548094 10.36822981]\n",
            " [10.61479712 10.92317522 10.65413921 10.10331068]\n",
            " [ 0.          0.          0.          0.        ]\n",
            " [10.70215628 10.63071107 10.7589633  10.65095421]\n",
            " [10.85735273 10.53431462 10.65003978 10.71372946]\n",
            " [10.12249531 10.1387416  10.33591237 10.17171705]\n",
            " [10.06676609  9.97392067 10.18440984 10.08609692]\n",
            " [ 9.57288036  9.66885224  9.69567858 10.02015625]\n",
            " [ 9.70305198  9.3518597  10.3908138   9.62326287]\n",
            " [10.48088752  9.28621717  8.5842851   9.29752884]\n",
            " [ 8.92172089  8.44564198  9.49580446  9.71402417]\n",
            " [ 7.44829732  9.5011592  11.67958338  8.91345814]\n",
            " [ 9.57165731 13.1666708   9.29786266  7.52418504]\n",
            " [12.5774035   9.41470925  7.99216782  8.68009864]\n",
            " [ 0.          0.          0.          0.        ]\n",
            " [ 0.          0.          0.          0.        ]\n",
            " [ 9.03883187  9.48880899  9.21096532  8.22289651]\n",
            " [ 0.          0.          0.          0.        ]\n",
            " [ 8.6915293   8.56512957  8.82883687  8.69073028]\n",
            " [ 9.65153496  9.73216778  9.78046125  9.67299358]\n",
            " [ 9.07491851  9.06011388  9.02348293  9.11894284]\n",
            " [ 9.15902962  9.2284959   9.35296562  9.35196524]\n",
            " [ 0.          0.          0.          0.        ]\n",
            " [ 8.57641395  8.66374861  8.73607059  8.71948428]\n",
            " [ 8.37990189  8.39301834  9.06476013  8.40482728]\n",
            " [ 8.17212916  8.91392918  8.16839946  8.22034043]\n",
            " [ 8.4427913   7.92935537 10.55880426  8.01807234]\n",
            " [ 7.38599311  8.34793089  7.8567552   7.66347548]\n",
            " [ 0.          0.          0.          0.        ]\n",
            " [ 6.84548681  6.88382474  6.97149145  7.39725791]\n",
            " [ 0.          0.          0.          0.        ]\n",
            " [ 6.20640846  6.18827775  6.19787179  6.22401648]\n",
            " [ 5.8927227   5.81091546  6.13010014  5.92784537]\n",
            " [ 5.81383191  5.86779504  5.69999878  5.88852487]\n",
            " [ 5.46720353  5.11662666  5.32496823  5.27977806]\n",
            " [ 4.81044595  5.30803468  5.22047422  5.22956149]\n",
            " [ 5.05620408  5.06716644  5.29208751  4.63732454]\n",
            " [ 0.          0.          0.          0.        ]\n",
            " [ 4.78337464  4.38379014  4.53402839  4.57128747]\n",
            " [ 4.86895088  4.00200687  4.31859355  4.69863358]\n",
            " [ 4.0475054   3.07404583  4.35008753  3.64743022]\n",
            " [ 5.38205194  5.32143295  5.22256892  2.56887528]\n",
            " [ 6.54220609  6.33870035  2.27111778  4.6047068 ]\n",
            " [ 6.84479439  2.          7.42049118  2.96064346]\n",
            " [ 3.86763924  7.55459129  5.54849643  5.49354607]\n",
            " [ 6.97083938  6.74227382  6.57943726  5.10268699]\n",
            " [ 0.          0.          0.          0.        ]\n",
            " [ 7.61012912  7.30282572  7.30332938  7.37014118]\n",
            " [ 7.01409051  7.03136779  7.16014158  7.09191859]\n",
            " [ 6.27168295  6.34850718  6.48000433  6.42883024]\n",
            " [ 6.85109356  9.19099573  6.75631931  6.51611676]\n",
            " [ 8.03357571  6.15672784  6.25532299  6.20366124]\n",
            " [ 5.94829569  5.90340164  6.01413656  6.3179394 ]\n",
            " [ 0.          0.          0.          0.        ]\n",
            " [ 5.1031767   5.21916871  5.46317193  5.3153102 ]\n",
            " [ 4.67597587  5.14173388  5.19301246  5.08163076]\n",
            " [ 4.93017734  4.88488012  4.88822616  4.77584871]\n",
            " [ 4.26188652  4.13891667  4.74753405  4.51559783]\n",
            " [ 5.21589818  4.48291088  4.13027613  4.50249501]\n",
            " [ 0.          0.          0.          0.        ]\n",
            " [ 3.12222346  3.07429402  4.67143187  3.50391238]\n",
            " [ 0.          0.          0.          0.        ]\n",
            " [ 4.20516657  2.99655218  2.79738821  2.49190763]\n",
            " [ 2.82254067  2.          2.63962325  2.70671737]\n",
            " [ 0.          0.          0.          0.        ]\n",
            " [ 1.99928434  1.99917622  2.18018764  1.99923724]\n",
            " [ 1.          1.          1.          1.        ]]\n",
            "V = \n",
            " [12.43456251  0.         12.57396206 12.47401905  0.         12.32109241\n",
            " 11.2905401  11.70384559 11.90921536  0.         12.24331622 12.41803868\n",
            " 11.71783156 11.67826197 11.41954731 11.0934377   0.         10.41860199\n",
            " 10.27464337  9.77487719  9.70217936  0.          8.60841088  8.15578218\n",
            "  8.20469647  7.57899489  8.73605089  8.72927242  0.         10.03443213\n",
            "  9.89763558 10.21884266 10.01185151  9.49894822  9.72177236 10.10331068\n",
            "  0.         10.63071107 10.53431462 10.12249531  9.97392067  9.57288036\n",
            "  9.3518597   8.5842851   8.44564198  7.44829732  7.52418504  7.99216782\n",
            "  0.          0.          8.22289651  0.          8.56512957  9.65153496\n",
            "  9.02348293  9.15902962  0.          8.57641395  8.37990189  8.16839946\n",
            "  7.92935537  7.38599311  0.          6.84548681  0.          6.18827775\n",
            "  5.81091546  5.69999878  5.11662666  4.81044595  4.63732454  0.\n",
            "  4.38379014  4.00200687  3.07404583  2.56887528  2.27111778  2.\n",
            "  3.86763924  5.10268699  0.          7.30282572  7.01409051  6.27168295\n",
            "  6.51611676  6.15672784  5.90340164  0.          5.1031767   4.67597587\n",
            "  4.77584871  4.13891667  4.13027613  0.          3.07429402  0.\n",
            "  2.49190763  2.          0.          1.99917622  1.        ]\n",
            "P = \n",
            " [3 0 0 1 0 2 1 0 3 0 1 1 1 0 1 0 0 0 1 1 0 0 1 3 2 1 0 3 0 0 1 3 2 1 0 3 0\n",
            " 1 1 0 1 0 1 2 1 0 3 2 0 0 3 0 1 0 2 0 0 0 0 2 1 0 0 0 0 1 1 2 1 0 3 0 1 1\n",
            " 1 3 2 1 0 3 0 1 0 0 3 1 1 0 0 0 3 1 2 0 1 0 3 1 0 1 0]\n"
          ]
        }
      ]
    },
    {
      "cell_type": "markdown",
      "source": [
        "# Conclusion:\n",
        "\n",
        "From the V values above, which represent the average expected reward for a given state, we can see that on average it will take us 11.95 rolls to reach the final state (win Chutes and Ladders) if we were to follow the policy derived by SARSA"
      ],
      "metadata": {
        "id": "5mkOTMiKA6Xt"
      }
    },
    {
      "cell_type": "code",
      "source": [
        "line = \"[\"\n",
        "for i in range(len(V)):\n",
        "    line += \" \" + str(V[i]) + \",\"\n",
        "\n",
        "\n",
        "print(line[:-1], \"]\")"
      ],
      "metadata": {
        "id": "Rlei7nyuaaWK",
        "colab": {
          "base_uri": "https://localhost:8080/"
        },
        "outputId": "a2b4755a-4cfc-492f-c82e-59d18bf0ed3a"
      },
      "execution_count": null,
      "outputs": [
        {
          "output_type": "stream",
          "name": "stdout",
          "text": [
            "[ 12.434562511905654, 0.0, 12.573962064424991, 12.474019050281758, 0.0, 12.321092408557538, 11.290540097484627, 11.70384559248309, 11.909215356893002, 0.0, 12.243316217853248, 12.418038680702253, 11.717831555109784, 11.678261966397066, 11.419547306528596, 11.093437701931427, 0.0, 10.418601991066838, 10.274643372871363, 9.774877192216472, 9.702179360037837, 0.0, 8.608410879379903, 8.1557821801937, 8.20469646979396, 7.578994885316556, 8.736050894107445, 8.729272416709112, 0.0, 10.034432134451375, 9.897635576785756, 10.218842661706965, 10.011851512619465, 9.498948222153201, 9.721772363147167, 10.103310682990871, 0.0, 10.630711068955575, 10.53431462075852, 10.122495307434413, 9.973920665767249, 9.57288035809776, 9.351859696929955, 8.584285100055357, 8.445641983825352, 7.4482973225199816, 7.524185036340084, 7.992167818590519, 0.0, 0.0, 8.222896513450046, 0.0, 8.565129572013253, 9.651534955410224, 9.02348292722168, 9.159029623153582, 0.0, 8.576413954573123, 8.379901888424595, 8.168399458284448, 7.9293553725270804, 7.385993111834614, 0.0, 6.845486806239698, 0.0, 6.188277747447763, 5.810915460049288, 5.699998781739839, 5.1166266625487244, 4.8104459488601785, 4.637324544297757, 0.0, 4.383790136216544, 4.0020068666664965, 3.0740458297414395, 2.568875284346317, 2.2711177782060945, 1.9999999999999987, 3.8676392383417504, 5.1026869873360425, 0.0, 7.302825719025734, 7.014090508314659, 6.271682953574359, 6.516116764777847, 6.156727835451279, 5.903401636486118, 0.0, 5.1031767033052, 4.675975872343126, 4.775848708724106, 4.138916667472611, 4.130276130033144, 0.0, 3.074294022655752, 0.0, 2.491907632207722, 1.9999999999999987, 0.0, 1.9991762170181948, 0.9999999999999996 ]\n"
          ]
        }
      ]
    },
    {
      "cell_type": "code",
      "source": [
        "strings = []\n",
        "line = \"[\"\n",
        "\n",
        "dice = [\"red\", \"blue\", \"black\", \"green\"]\n",
        "for i in range(len(P)):\n",
        "    line += \" \" + dice[int(P[i])] + \",\"\n",
        "    strings.append(dice[int(P[i])])"
      ],
      "metadata": {
        "id": "q_tvucX_TLl_"
      },
      "execution_count": null,
      "outputs": []
    },
    {
      "cell_type": "code",
      "source": [
        "print(line[:-1], \"]\")"
      ],
      "metadata": {
        "id": "Ii5SZ1K0xnWf",
        "colab": {
          "base_uri": "https://localhost:8080/"
        },
        "outputId": "f04454bd-752f-4b01-e7aa-dc0f67bce75c"
      },
      "execution_count": null,
      "outputs": [
        {
          "output_type": "stream",
          "name": "stdout",
          "text": [
            "[ green, red, red, blue, red, black, blue, red, green, red, blue, blue, blue, red, blue, red, red, red, blue, blue, red, red, blue, green, black, blue, red, green, red, red, blue, green, black, blue, red, green, red, blue, blue, red, blue, red, blue, black, blue, red, green, black, red, red, green, red, blue, red, black, red, red, red, red, black, blue, red, red, red, red, blue, blue, black, blue, red, green, red, blue, blue, blue, green, black, blue, red, green, red, blue, red, red, green, blue, blue, red, red, red, green, blue, black, red, blue, red, green, blue, red, blue, red ]\n"
          ]
        }
      ]
    },
    {
      "cell_type": "code",
      "source": [
        "for i in range(10):\n",
        "  print(line)\n",
        "  line = \"[\"\n",
        "  for j in range(10):\n",
        "    line += \" \" + strings[j+(i*10)] + \",\"\n",
        "  line += \"]\""
      ],
      "metadata": {
        "colab": {
          "base_uri": "https://localhost:8080/"
        },
        "id": "0ownxvpWUX28",
        "outputId": "0f06f2ff-35d9-47ec-85d8-44b54447e9b0"
      },
      "execution_count": null,
      "outputs": [
        {
          "output_type": "stream",
          "name": "stdout",
          "text": [
            "[ green, red, red, blue, red, black, blue, red, green, red, blue, blue, blue, red, blue, red, red, red, blue, blue, red, red, blue, green, black, blue, red, green, red, red, blue, green, black, blue, red, green, red, blue, blue, red, blue, red, blue, black, blue, red, green, black, red, red, green, red, blue, red, black, red, red, red, red, black, blue, red, red, red, red, blue, blue, black, blue, red, green, red, blue, blue, blue, green, black, blue, red, green, red, blue, red, red, green, blue, blue, red, red, red, green, blue, black, red, blue, red, green, blue, red, blue, red,\n",
            "[ green, red, red, blue, red, black, blue, red, green, red,]\n",
            "[ blue, blue, blue, red, blue, red, red, red, blue, blue,]\n",
            "[ red, red, blue, green, black, blue, red, green, red, red,]\n",
            "[ blue, green, black, blue, red, green, red, blue, blue, red,]\n",
            "[ blue, red, blue, black, blue, red, green, black, red, red,]\n",
            "[ green, red, blue, red, black, red, red, red, red, black,]\n",
            "[ blue, red, red, red, red, blue, blue, black, blue, red,]\n",
            "[ green, red, blue, blue, blue, green, black, blue, red, green,]\n",
            "[ red, blue, red, red, green, blue, blue, red, red, red,]\n"
          ]
        }
      ]
    }
  ]
}